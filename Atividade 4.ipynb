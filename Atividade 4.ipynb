{
 "cells": [
  {
   "cell_type": "markdown",
   "id": "783cf563",
   "metadata": {},
   "source": [
    "# *Estrutura de dados*\n",
    "\n",
    "Prof: Carlos Bazilio Martins\n",
    "\n",
    "Luciana Gonzaga\n",
    "\n",
    "---"
   ]
  },
  {
   "cell_type": "markdown",
   "id": "b296b859",
   "metadata": {},
   "source": [
    "### 1) Atividade 1:\n",
    "\n",
    "Implemente uma agenda telefônica usando um vetor ou lista de objetos.\n",
    "Cada contato da agenda deve ser representado como uma classe, a qual conterá informações como nome, telefone, endereço e relação (nome de empresa ou nome de pessoa física que se refere este contato, uma espécie de lembrete).\n",
    "\n",
    "A agenda deve ser implementada como uma outra classe, a qual conterá o vetor ou lista de objetos (contatos). Caso seja um vetor, uma agenda pode armazenar até 1000 contatos (Como sugestão, pode ser criado um campo último, o qual guarda a última posição inserida no vetor e evita que este seja percorrido por completo em cada operação).\n",
    "\n",
    "Deve ser criada uma terceira classe, chamada Principal, a qual utilizará as classes criadas anteriormente. Além disso faça:\n",
    "\n",
    "- Implemente um método de busca na agenda, o qual recebe um nome, ou parte deste, e retorna o contato. Caso haja mais de um contato, a busca deve retornar apenas o primeiro.\n",
    "- Implemente métodos de inserção, alteração e remoção de contatos da agenda. Caso o nome de um contato sendo inserido já exista na agenda, a inserção se torna uma alteração.\n",
    "- Implemente um método para listar os contatos de uma agenda. Para auxiliar tal listagem, crie um método toString(), na classe contato, o qual retorna uma string (qualquer formato) com o conteúdo de um contato.\n",
    "- Implemente métodos para salvar/recuperar os contatos de arquivos, de forma que estes possam durar a após as execuções do programa.\n",
    "- Insira o seguintes contatos na agenda a ser criada na classe Principal:\n",
    "\n",
    "|Nome     |Telefone  |Endereço  |Relação   |\n",
    "|---------|:---------|:---------|:---------|\n",
    "|Fulano   |99999999  |Rua A     |UFF       |\n",
    "|Ciclano  |88888888  |Rua B     |Cederj    |\n",
    "|Beltrano |88889999  |Rua C     |Infância  |\n",
    "\n",
    "- Ainda na classe Principal, chame o método de inserção novamente para o contato Fulano, 77777777, Rua D; remova o contato Ciclano e liste o conteúdo da agenda."
   ]
  },
  {
   "cell_type": "code",
   "execution_count": 2,
   "id": "7daece60",
   "metadata": {},
   "outputs": [
    {
     "name": "stdout",
     "output_type": "stream",
     "text": [
      "Nome: Fulano, Telefone: 77777777, Endereço: Rua D, Relação: UFF\n",
      "Nome: Beltrano, Telefone: 88889999, Endereço: Rua C, Relação: Infância\n"
     ]
    }
   ],
   "source": [
    "class Contato:\n",
    "    def __init__(self, nome, telefone, endereco, relacao):\n",
    "        self.nome = nome\n",
    "        self.telefone = telefone\n",
    "        self.endereco = endereco\n",
    "        self.relacao = relacao\n",
    "\n",
    "    def __str__(self):\n",
    "        return f\"Nome: {self.nome}, Telefone: {self.telefone}, Endereço: {self.endereco}, Relação: {self.relacao}\"\n",
    "\n",
    "class Agenda:\n",
    "    def __init__(self):\n",
    "        self.contatos = []\n",
    "\n",
    "    def buscar_contato(self, nome):\n",
    "        for contato in self.contatos:\n",
    "            if nome.lower() in contato.nome.lower():\n",
    "                return contato\n",
    "        return f\"Contato não encontrado.\"\n",
    "\n",
    "    def inserir_alterar_contato(self, nome, telefone, endereco, relacao):\n",
    "        contato_existente = self.buscar_contato(nome)\n",
    "        if contato_existente:\n",
    "            contato_existente.telefone = telefone\n",
    "            contato_existente.endereco = endereco\n",
    "            contato_existente.relacao = relacao\n",
    "        else:\n",
    "            contato = Contato(nome, telefone, endereco, relacao)\n",
    "            self.contatos.append(contato)\n",
    "\n",
    "    def remover_contato(self, nome):\n",
    "        contato = self.buscar_contato(nome)\n",
    "        if contato:\n",
    "            self.contatos.remove(contato)\n",
    "\n",
    "    def listar_contatos(self):\n",
    "        for contato in self.contatos:\n",
    "            print(contato)\n",
    "\n",
    "class Principal:\n",
    "    def __init__(self):\n",
    "        self.agenda = Agenda()\n",
    "\n",
    "    def executar(self):\n",
    "        # Insere os contatos na agenda\n",
    "        self.agenda.inserir_alterar_contato(\"Fulano\", \"99999999\", \"Rua A\", \"UFF\")\n",
    "        self.agenda.inserir_alterar_contato(\"Ciclano\", \"88888888\", \"Rua B\", \"Cederj\")\n",
    "        self.agenda.inserir_alterar_contato(\"Beltrano\", \"88889999\", \"Rua C\", \"Infância\")\n",
    "\n",
    "        # Insere novamente o contato Fulano, alterando o telefone e o endereço\n",
    "        self.agenda.inserir_alterar_contato(\"Fulano\", \"77777777\", \"Rua D\", \"UFF\")\n",
    "\n",
    "        # Remove o contato Ciclano\n",
    "        self.agenda.remover_contato(\"Ciclano\")\n",
    "\n",
    "        # Lista o conteúdo da agenda\n",
    "        self.agenda.listar_contatos()\n",
    "\n",
    "if __name__ == \"__main__\":\n",
    "    principal = Principal()\n",
    "    principal.executar()"
   ]
  },
  {
   "cell_type": "code",
   "execution_count": 5,
   "id": "67d88b9d",
   "metadata": {},
   "outputs": [
    {
     "ename": "NameError",
     "evalue": "name 'buscar_contato' is not defined",
     "output_type": "error",
     "traceback": [
      "\u001b[1;31m---------------------------------------------------------------------------\u001b[0m",
      "\u001b[1;31mNameError\u001b[0m                                 Traceback (most recent call last)",
      "Input \u001b[1;32mIn [5]\u001b[0m, in \u001b[0;36m<cell line: 1>\u001b[1;34m()\u001b[0m\n\u001b[1;32m----> 1\u001b[0m \u001b[43mbuscar_contato\u001b[49m(\u001b[38;5;124m'\u001b[39m\u001b[38;5;124mleo\u001b[39m\u001b[38;5;124m'\u001b[39m)\n",
      "\u001b[1;31mNameError\u001b[0m: name 'buscar_contato' is not defined"
     ]
    }
   ],
   "source": [
    "buscar_contato('leo')"
   ]
  },
  {
   "cell_type": "markdown",
   "id": "e8ea6360",
   "metadata": {},
   "source": [
    "### Atividade 2:\n",
    "\n",
    "Na Matemática, um intervalo é um conjunto de números reais com a propriedade que qualquer número pertencente entre 2 números num conjunto também pertence a este conjunto. Por exemplo, o conjunto de todos os números que satisfaçam [0, 1] é um intervalo que contém os valores 0, 1 e todos que estão entre estes 2 números. Intervalos são elementos fundamentais na matemática intervalar, uma técnica de computação numérica que garante resultados, mesmo na presença de incertezas e/ou aproximações.\n",
    "\n",
    "Crie um tipo de dados (classe) para modelar um intervalo de números na reta dos inteiros. Por exemplo, $[-3, 7)$ representa o intervalo que compreende os valores de - 3 a 7, incluindo o -3 e excluindo o 7. Defina as seguintes operações (métodos) sobre os intervalos:\n",
    "-  a.contém(v) retorna verdadeiro se o valor v pertence ao intervalo a; caso contrário, retorna falso\n",
    "- a.intercepta(b) retorna verdadeiro se há interseção entre os intervalos a e b; caso contrário, a operação retorna falso\n",
    "- a.media() retorna a média dos valores pertencentes ao intervalo\n",
    "- na aritmética de intervalos temos a combinação dos seus limites; implemente o método a.produto(b) que retorna um novo intervalo c com os seguintes limites: $[min (infa*infb, infa*supb, supa*infb, supa*supb), max (infa*infb, infa*supb, supa*infb, supa*supb)]$, onde os prefixos inf indica o limite inferior do intervalo e sup o superior.\n",
    "- a.uniao(b) deve representar todos os valores que fazem parte dos intervalos a e b; se podemos ter intervalos sem interseção, como podemos representar esta união? Adeque a solução apresentada para trabalhar com estes novos tipos de intervalos."
   ]
  },
  {
   "cell_type": "code",
   "execution_count": 6,
   "id": "01e00d13",
   "metadata": {},
   "outputs": [],
   "source": [
    "class Intervalo:\n",
    "    def __init__(self, limite_inferior, limite_superior, incluir_inferior=True, incluir_superior=True):\n",
    "        self.limite_inferior = limite_inferior\n",
    "        self.limite_superior = limite_superior\n",
    "        self.incluir_inferior = incluir_inferior\n",
    "        self.incluir_superior = incluir_superior\n",
    "\n",
    "    def __str__(self):\n",
    "        inf_simbolo = \"[\" if self.incluir_inferior else \"(\"\n",
    "        sup_simbolo = \"]\" if self.incluir_superior else \")\"\n",
    "        return f\"{inf_simbolo}{self.limite_inferior}, {self.limite_superior}{sup_simbolo}\"\n",
    "\n",
    "    def contem(self, valor):\n",
    "        if self.incluir_inferior:\n",
    "            if valor < self.limite_inferior:\n",
    "                return False\n",
    "        else:\n",
    "            if valor <= self.limite_inferior:\n",
    "                return False\n",
    "\n",
    "        if self.incluir_superior:\n",
    "            if valor > self.limite_superior:\n",
    "                return False\n",
    "        else:\n",
    "            if valor >= self.limite_superior:\n",
    "                return False\n",
    "\n",
    "        return True\n",
    "\n",
    "    def intercepta(self, outro_intervalo):\n",
    "        if self.limite_superior < outro_intervalo.limite_inferior or \\\n",
    "           self.limite_inferior > outro_intervalo.limite_superior:\n",
    "            return False\n",
    "        if self.limite_superior == outro_intervalo.limite_inferior and \\\n",
    "           (not self.incluir_superior or not outro_intervalo.incluir_inferior):\n",
    "            return False\n",
    "        if self.limite_inferior == outro_intervalo.limite_superior and \\\n",
    "           (not self.incluir_inferior or not outro_intervalo.incluir_superior):\n",
    "            return False\n",
    "        return True\n",
    "\n",
    "    def media(self):\n",
    "        return (self.limite_inferior + self.limite_superior) / 2\n",
    "\n",
    "    def produto(self, outro_intervalo):\n",
    "        minimo = min(self.limite_inferior * outro_intervalo.limite_inferior,\n",
    "                     self.limite_inferior * outro_intervalo.limite_superior,\n",
    "                     self.limite_superior * outro_intervalo.limite_inferior,\n",
    "                     self.limite_superior * outro_intervalo.limite_superior)\n",
    "\n",
    "        maximo = max(self.limite_inferior * outro_intervalo.limite_inferior,\n",
    "                     self.limite_inferior * outro_intervalo.limite_superior,\n",
    "                     self.limite_superior * outro_intervalo.limite_inferior,\n",
    "                     self.limite_superior * outro_intervalo.limite_superior)\n",
    "\n",
    "        return Intervalo(minimo, maximo)\n",
    "\n",
    "    def uniao(self, outro_intervalo):\n",
    "        novo_limite_inferior = min(self.limite_inferior, outro_intervalo.limite_inferior)\n",
    "        novo_limite_superior = max(self.limite_superior, outro_intervalo.limite_superior)\n",
    "        incluir_inferior = self.incluir_inferior or outro_intervalo.incluir_inferior\n",
    "        incluir_superior = self.incluir_superior or outro_intervalo.incluir_superior\n",
    "\n",
    "        return Intervalo(novo_limite_inferior, novo_limite_superior, incluir_inferior, incluir_superior)"
   ]
  },
  {
   "cell_type": "code",
   "execution_count": 7,
   "id": "2469bb40",
   "metadata": {},
   "outputs": [
    {
     "name": "stdout",
     "output_type": "stream",
     "text": [
      "Intervalo A: [-3, 7)\n",
      "Intervalo B: [0, 5]\n",
      "A contém 4? True\n",
      "Intercepta B? True\n",
      "Média de A: 2.0\n",
      "Produto de A e B: [-15, 35]\n",
      "União de A e B: [-3, 7]\n"
     ]
    }
   ],
   "source": [
    "# Exemplo de uso:\n",
    "intervalo_a = Intervalo(-3, 7, True, False)\n",
    "intervalo_b = Intervalo(0, 5, True, True)\n",
    "\n",
    "# Teste das operações\n",
    "print(f\"Intervalo A: {intervalo_a}\")\n",
    "print(f\"Intervalo B: {intervalo_b}\")\n",
    "print(f\"A contém 4? {intervalo_a.contem(4)}\")\n",
    "print(f\"Intercepta B? {intervalo_a.intercepta(intervalo_b)}\")\n",
    "print(f\"Média de A: {intervalo_a.media()}\")\n",
    "print(f\"Produto de A e B: {intervalo_a.produto(intervalo_b)}\")\n",
    "print(f\"União de A e B: {intervalo_a.uniao(intervalo_b)}\")"
   ]
  }
 ],
 "metadata": {
  "kernelspec": {
   "display_name": "Python 3 (ipykernel)",
   "language": "python",
   "name": "python3"
  },
  "language_info": {
   "codemirror_mode": {
    "name": "ipython",
    "version": 3
   },
   "file_extension": ".py",
   "mimetype": "text/x-python",
   "name": "python",
   "nbconvert_exporter": "python",
   "pygments_lexer": "ipython3",
   "version": "3.9.12"
  }
 },
 "nbformat": 4,
 "nbformat_minor": 5
}
