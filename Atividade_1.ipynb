{
 "cells": [
  {
   "cell_type": "markdown",
   "id": "52738163",
   "metadata": {},
   "source": [
    "# *Estrutura de dados*\n",
    "\n",
    "Prof: Carlos Bazilio Martins\n",
    "\n",
    "---"
   ]
  },
  {
   "cell_type": "markdown",
   "id": "ec505775",
   "metadata": {},
   "source": [
    "## Atividade 1:\n",
    "\n",
    "1. Crie uma função que calcula o somatório de 1/n, onde o n varie de 1 até 100.\n",
    "2. Crie uma função que calcula o somatório de 1/(n*n), onde o n varie na mesma faixa de valores.\n",
    "3. Considerando este código (https://github.com/carlosbazilio/mesc/blob/main/github.py), o qual imprime na tela os dados recebidos do acesso a api do github para a minha conta, crie uma função para, dado o valor de um cep, exibir os dados postais referentes a este cep. Para tal, use a api descrita neste site (https://viacep.com.br/), a qual foi comentada brevemente em sala."
   ]
  },
  {
   "cell_type": "code",
   "execution_count": 5,
   "id": "93d70781",
   "metadata": {},
   "outputs": [
    {
     "data": {
      "text/plain": [
       "1.5"
      ]
     },
     "execution_count": 5,
     "metadata": {},
     "output_type": "execute_result"
    }
   ],
   "source": [
    "# 1) Somatório de 1/n, onde o n varie de 1 até 100.\n",
    "\n",
    "def soma_n (n):\n",
    "    \n",
    "    soma=0\n",
    "    if 0 < n <= 100:\n",
    "        for i in range(1,n+1):\n",
    "            soma = soma + (1/i)\n",
    "            i = i - 1\n",
    "    else:\n",
    "        print(\"Apenas valores de 1 a 100.\")\n",
    "    \n",
    "    return soma\n",
    "        \n",
    "\n",
    "soma_n(2)"
   ]
  },
  {
   "cell_type": "code",
   "execution_count": 6,
   "id": "0a24011f",
   "metadata": {},
   "outputs": [
    {
     "data": {
      "text/plain": [
       "1.25"
      ]
     },
     "execution_count": 6,
     "metadata": {},
     "output_type": "execute_result"
    }
   ],
   "source": [
    "# 2) Somatório de (1/n*n), onde o n varie de 1 até 100.\n",
    "\n",
    "def soma_n2 (n):\n",
    "    \n",
    "    soma=0\n",
    "    if 0 < n <= 100:\n",
    "        while n > 0:\n",
    "            soma = soma + (1/n**2)\n",
    "            n = n - 1\n",
    "        return soma\n",
    "    else:\n",
    "        print(\"Apenas valores de 1 a 100.\")\n",
    "    \n",
    "        \n",
    "soma_n2(2)"
   ]
  },
  {
   "cell_type": "code",
   "execution_count": 11,
   "id": "dad0617f",
   "metadata": {},
   "outputs": [
    {
     "data": {
      "text/plain": [
       "{'cep': '24436-030',\n",
       " 'logradouro': 'Travessa Francisco Rodrigues',\n",
       " 'complemento': '',\n",
       " 'bairro': 'Porto da Pedra',\n",
       " 'localidade': 'São Gonçalo',\n",
       " 'uf': 'RJ',\n",
       " 'ibge': '3304904',\n",
       " 'gia': '',\n",
       " 'ddd': '21',\n",
       " 'siafi': '5897'}"
      ]
     },
     "execution_count": 11,
     "metadata": {},
     "output_type": "execute_result"
    }
   ],
   "source": [
    "# 3) Dados postais refente ao CEP:\n",
    "\n",
    "import requests\n",
    "\n",
    "def cep (n):\n",
    "    \n",
    "    url = 'http://viacep.com.br/ws/'+str(n)+'/json/'\n",
    "    dados = requests.get(url)\n",
    "    return dados.json()\n",
    "\n",
    "\n",
    "cep(24436030)"
   ]
  }
 ],
 "metadata": {
  "kernelspec": {
   "display_name": "Python 3 (ipykernel)",
   "language": "python",
   "name": "python3"
  },
  "language_info": {
   "codemirror_mode": {
    "name": "ipython",
    "version": 3
   },
   "file_extension": ".py",
   "mimetype": "text/x-python",
   "name": "python",
   "nbconvert_exporter": "python",
   "pygments_lexer": "ipython3",
   "version": "3.9.12"
  }
 },
 "nbformat": 4,
 "nbformat_minor": 5
}
