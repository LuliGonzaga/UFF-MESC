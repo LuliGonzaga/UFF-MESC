{
 "cells": [
  {
   "cell_type": "markdown",
   "id": "7d4bfb0f",
   "metadata": {},
   "source": [
    "# *Estrutura de dados*\n",
    "\n",
    "Prof: Carlos Bazilio Martins\n",
    "\n",
    "---"
   ]
  },
  {
   "cell_type": "markdown",
   "id": "4075705e",
   "metadata": {},
   "source": [
    "## Atividade 2:\n",
    "\n",
    "Considere declaração inicial de uma lista de alunos:\n",
    "\n",
    "``` Python\n",
    "alunos = [{\"nome\":\"Thalessa\", \"nomecompleto\":\"Thalessa Hungerbuhler Daroz\"}]\n",
    "```\n",
    "\n",
    "1. Insira também os campos email, tipo (se é aluno Especial ou Regular) e cr (coeficiente de rendimento do curso). Insira um ou mais alunos hipotéticos para que a lista tenha mais informações.\n",
    "2. Crie uma função para retornar a lista de emails da turma. Relembrando, para acessar um campo de um dicionário, basta usar a chave. Por exemplo, para retornar o nome Thalessa aluna acima podemos escrever a expressão: alunos[0][\"nome\"]\n",
    "3. Crie uma função para retornar os contatos de um dado tipo (Regular ou Especial). Por exemplo, para a nossa turma, retornar uma lista com todos os alunos especiais só retornará a Thalessa, enquanto que a busca por regulares deve retornar todos os demais.\n",
    "4. Crie uma função para retornar a lista dos emails dos alunos regulares.\n",
    "5. Crie uma função para retornar a média dos alunos (soma dos cr's / quantidade de alunos).\n",
    "6. Sabendo que o endereço para acessar informações de um usuário no github é dado pela url https://api.github.com/users/<nomedousuario&gt;, usando o identificador de cada endereço de email, crie uma função para retornar uma lisa de endereços de usuários no github."
   ]
  },
  {
   "cell_type": "code",
   "execution_count": 1,
   "id": "e0f72bb1",
   "metadata": {},
   "outputs": [],
   "source": [
    "alunos = [{\"nome\":\"Thalessa\", \"nomecompleto\":\"Thalessa Hungerbuhler Daroz\"}]\n",
    "\n",
    "alunos[0]['email'] = 'thalessahd@id.uff.br'\n",
    "alunos[0]['tipo'] = 'Especial'\n",
    "alunos[0]['cr'] = 10"
   ]
  },
  {
   "cell_type": "code",
   "execution_count": 2,
   "id": "9cf57c90",
   "metadata": {},
   "outputs": [],
   "source": [
    "from functools import reduce\n",
    "\n",
    "# Adiciona um novo aluno:\n",
    "def novo_aluno (nome, nomecompleto, email, tipo, cr):\n",
    "    alunos.append({'nome':nome, 'nomecompleto':nomecompleto, 'email':email, 'tipo':tipo, 'cr':cr})\n",
    "    return alunos[len(alunos)-1]\n",
    "\n",
    "# Retorna a lista de emails da turma:\n",
    "def emails (lista):\n",
    "    #return [aluno['email'] for aluno in lista]\n",
    "    return list(map(lambda aluno: aluno['email'], lista))\n",
    "\n",
    "# Retorna lista alunos de cada tipo:        \n",
    "def tipo_aluno(tipo):\n",
    "    filtrados = list(filter(lambda aluno: aluno['tipo'] == tipo, alunos))\n",
    "    #return [aluno['nome'] for aluno in filtrados]\n",
    "    return list(map(lambda aluno: aluno['nome'], filtrados))\n",
    "\n",
    "# Retorna lista emails alunos por tipo:\n",
    "def emails_tipo (tipo):\n",
    "    filtrados = list(filter(lambda aluno: aluno['tipo'] == tipo, alunos))\n",
    "    return emails(filtrados)\n",
    "\n",
    "# Retorna média dos alunos (cr):\n",
    "def media (lista):\n",
    "    soma = reduce(lambda x, aluno: x + aluno['cr'], lista, 0)\n",
    "    return soma/len(lista)\n",
    "\n",
    "# Retorna lista endereços do github:\n",
    "def end_git (lista):\n",
    "    identificadores = list(map(lambda email: email.split('@')[0], emails(lista)))\n",
    "    return list(map(lambda usuario: 'https://api.github.com/users/'+usuario, identificadores))"
   ]
  },
  {
   "cell_type": "code",
   "execution_count": 3,
   "id": "4d3790df",
   "metadata": {},
   "outputs": [
    {
     "data": {
      "text/plain": [
       "{'nome': 'Breno',\n",
       " 'nomecompleto': 'Breno Cagide Fialho',\n",
       " 'email': 'brenofialho@id.uff.br',\n",
       " 'tipo': 'Regular',\n",
       " 'cr': 10}"
      ]
     },
     "execution_count": 3,
     "metadata": {},
     "output_type": "execute_result"
    }
   ],
   "source": [
    "novo_aluno('Breno', 'Breno Cagide Fialho', 'brenofialho@id.uff.br', 'Regular', 10)"
   ]
  },
  {
   "cell_type": "code",
   "execution_count": 4,
   "id": "dba0c224",
   "metadata": {
    "scrolled": false
   },
   "outputs": [
    {
     "data": {
      "text/plain": [
       "[{'nome': 'Thalessa',\n",
       "  'nomecompleto': 'Thalessa Hungerbuhler Daroz',\n",
       "  'email': 'thalessahd@id.uff.br',\n",
       "  'tipo': 'Especial',\n",
       "  'cr': 10},\n",
       " {'nome': 'Breno',\n",
       "  'nomecompleto': 'Breno Cagide Fialho',\n",
       "  'email': 'brenofialho@id.uff.br',\n",
       "  'tipo': 'Regular',\n",
       "  'cr': 10},\n",
       " {'nome': 'Josiane',\n",
       "  'nomecompleto': 'Josiane Coelho de Oliveira',\n",
       "  'email': 'josianeoliveira@id.uff.br',\n",
       "  'tipo': 'Regular',\n",
       "  'cr': 9},\n",
       " {'nome': 'Luciana',\n",
       "  'nomecompleto': 'Luciana de Oliveira Gonzaga',\n",
       "  'email': 'lucianagonzaga@id.uff.br',\n",
       "  'tipo': 'Regular',\n",
       "  'cr': 9}]"
      ]
     },
     "execution_count": 4,
     "metadata": {},
     "output_type": "execute_result"
    }
   ],
   "source": [
    "novo_aluno('Josiane', 'Josiane Coelho de Oliveira', 'josianeoliveira@id.uff.br', 'Regular', 9)\n",
    "novo_aluno('Luciana', 'Luciana de Oliveira Gonzaga', 'lucianagonzaga@id.uff.br', 'Regular', 9)\n",
    "\n",
    "alunos"
   ]
  },
  {
   "cell_type": "code",
   "execution_count": 5,
   "id": "e514aac8",
   "metadata": {},
   "outputs": [
    {
     "data": {
      "text/plain": [
       "['thalessahd@id.uff.br',\n",
       " 'brenofialho@id.uff.br',\n",
       " 'josianeoliveira@id.uff.br',\n",
       " 'lucianagonzaga@id.uff.br']"
      ]
     },
     "execution_count": 5,
     "metadata": {},
     "output_type": "execute_result"
    }
   ],
   "source": [
    "emails(alunos)"
   ]
  },
  {
   "cell_type": "code",
   "execution_count": 6,
   "id": "353edb6a",
   "metadata": {},
   "outputs": [
    {
     "data": {
      "text/plain": [
       "['Thalessa']"
      ]
     },
     "execution_count": 6,
     "metadata": {},
     "output_type": "execute_result"
    }
   ],
   "source": [
    "tipo_aluno('Especial')"
   ]
  },
  {
   "cell_type": "code",
   "execution_count": 7,
   "id": "86daf8b4",
   "metadata": {},
   "outputs": [
    {
     "data": {
      "text/plain": [
       "['Breno', 'Josiane', 'Luciana']"
      ]
     },
     "execution_count": 7,
     "metadata": {},
     "output_type": "execute_result"
    }
   ],
   "source": [
    "tipo_aluno('Regular')"
   ]
  },
  {
   "cell_type": "code",
   "execution_count": 8,
   "id": "0091bd06",
   "metadata": {},
   "outputs": [
    {
     "data": {
      "text/plain": [
       "['brenofialho@id.uff.br',\n",
       " 'josianeoliveira@id.uff.br',\n",
       " 'lucianagonzaga@id.uff.br']"
      ]
     },
     "execution_count": 8,
     "metadata": {},
     "output_type": "execute_result"
    }
   ],
   "source": [
    "emails_tipo('Regular')"
   ]
  },
  {
   "cell_type": "code",
   "execution_count": 9,
   "id": "231260e1",
   "metadata": {},
   "outputs": [
    {
     "data": {
      "text/plain": [
       "9.5"
      ]
     },
     "execution_count": 9,
     "metadata": {},
     "output_type": "execute_result"
    }
   ],
   "source": [
    "media(alunos)"
   ]
  },
  {
   "cell_type": "code",
   "execution_count": 10,
   "id": "3faf037a",
   "metadata": {},
   "outputs": [
    {
     "data": {
      "text/plain": [
       "['https://api.github.com/users/thalessahd',\n",
       " 'https://api.github.com/users/brenofialho',\n",
       " 'https://api.github.com/users/josianeoliveira',\n",
       " 'https://api.github.com/users/lucianagonzaga']"
      ]
     },
     "execution_count": 10,
     "metadata": {},
     "output_type": "execute_result"
    }
   ],
   "source": [
    "end_git(alunos)"
   ]
  }
 ],
 "metadata": {
  "kernelspec": {
   "display_name": "Python 3 (ipykernel)",
   "language": "python",
   "name": "python3"
  },
  "language_info": {
   "codemirror_mode": {
    "name": "ipython",
    "version": 3
   },
   "file_extension": ".py",
   "mimetype": "text/x-python",
   "name": "python",
   "nbconvert_exporter": "python",
   "pygments_lexer": "ipython3",
   "version": "3.9.12"
  }
 },
 "nbformat": 4,
 "nbformat_minor": 5
}
