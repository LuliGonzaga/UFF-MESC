{
 "cells": [
  {
   "cell_type": "markdown",
   "id": "b67f359a",
   "metadata": {},
   "source": [
    "# *Estrutura de dados*\n",
    "\n",
    "Prof: Carlos Bazilio Martins\n",
    "\n",
    "---"
   ]
  },
  {
   "attachments": {
    "diagrama-conceitual.png": {
     "image/png": "[encoded data removed]"
    }
   },
   "cell_type": "markdown",
   "id": "7aad5e3a",
   "metadata": {},
   "source": [
    "## Atividade 3:\n",
    "\n",
    "1. Relacione as classes na figura em anexo usando herança ou associação (relembrando a aula, podemos dizer que um Datashow herda de Eletrônico, enquanto que um Eletrônico pode estar associado a uma Sala de Aula). Considere o nome destas para intuir como se relacionam.\n",
    "\n",
    "![diagrama-conceitual.png](attachment:diagrama-conceitual.png)"
   ]
  },
  {
   "cell_type": "code",
   "execution_count": 1,
   "id": "06483d83",
   "metadata": {},
   "outputs": [],
   "source": [
    "class CidadeNatal:\n",
    "    def __init__(self, nome_cidade):\n",
    "        self.nome_cidade = nome_cidade\n",
    "\n",
    "\n",
    "\n",
    "class Pessoa:\n",
    "    def __init__(self, nome, cidade_natal):\n",
    "        self.nome = nome\n",
    "        self.cidade_natal = cidade_natal\n",
    "        \n",
    "        \n",
    "        \n",
    "\n",
    "class Setor:\n",
    "    def __init__(self, nome_setor):\n",
    "        self.nome_setor = nome_setor\n",
    "        \n",
    "        \n",
    "\n",
    "\n",
    "class Chefe(Pessoa):\n",
    "    def __init__(self, nome, cidade_natal, setor):\n",
    "        super().__init__(nome, cidade_natal)\n",
    "        self.setor = setor\n",
    "\n",
    "    def delegar_servico(self, empregado, servico):\n",
    "        print(f\"Chefe {self.nome} delega o serviço '{servico}' a {empregado.nome}\")\n",
    "\n",
    "        \n",
    "        \n",
    "        \n",
    "class Empregado(Pessoa):\n",
    "    def __init__(self, nome, cidade_natal, chefe):\n",
    "        super().__init__(nome, cidade_natal)\n",
    "        self.chefe = chefe\n",
    "\n",
    "    def executar_servico(self, servico):\n",
    "        print(f\"Empregado {self.nome} executa o serviço '{servico}'\")\n",
    "\n",
    "        \n",
    "        \n",
    "        \n",
    "class Cliente(Pessoa):\n",
    "    def __init__(self, nome, cidade_natal):\n",
    "        super().__init__(nome, cidade_natal)\n",
    "\n",
    "    def solicitar_servico(self, servico):\n",
    "        print(f\"Cliente {self.nome} solicita o serviço '{servico}'\")\n",
    "        \n",
    "    def fazer_pagamento(self, valor):\n",
    "        print(f\"Cliente {self.nome} fez um pagamento de R${valor}\")"
   ]
  },
  {
   "cell_type": "code",
   "execution_count": 2,
   "id": "8d7a2458",
   "metadata": {},
   "outputs": [],
   "source": [
    "macae = CidadeNatal(\"Macaé\")\n",
    "riodasostras = CidadeNatal(\"Rio das Ostras\")\n",
    "\n",
    "manutencao = Setor(\"Manutenção\")\n",
    "\n",
    "maria = Chefe(\"Maria\", riodasostras, manutencao)\n",
    "joao = Empregado(\"João\", macae, maria)\n",
    "\n",
    "luciana = Cliente(\"Luciana\", macae)"
   ]
  },
  {
   "cell_type": "code",
   "execution_count": 3,
   "id": "326ea637",
   "metadata": {},
   "outputs": [
    {
     "name": "stdout",
     "output_type": "stream",
     "text": [
      "Cliente Luciana solicita o serviço 'Limpeza'\n",
      "Chefe Maria delega o serviço 'Limpeza' a João\n",
      "Empregado João executa o serviço 'Limpeza'\n",
      "Cliente Luciana fez um pagamento de R$100\n"
     ]
    }
   ],
   "source": [
    "luciana.solicitar_servico(\"Limpeza\")\n",
    "maria.delegar_servico(joao, \"Limpeza\")\n",
    "joao.executar_servico(\"Limpeza\")\n",
    "luciana.fazer_pagamento(100)"
   ]
  },
  {
   "cell_type": "code",
   "execution_count": 4,
   "id": "f8db7b2f",
   "metadata": {},
   "outputs": [
    {
     "name": "stdout",
     "output_type": "stream",
     "text": [
      "Luciana\n",
      "Macaé\n"
     ]
    }
   ],
   "source": [
    "print(luciana.nome)\n",
    "print(luciana.cidade_natal.nome_cidade)"
   ]
  },
  {
   "cell_type": "code",
   "execution_count": 5,
   "id": "40c79fc3",
   "metadata": {},
   "outputs": [
    {
     "name": "stdout",
     "output_type": "stream",
     "text": [
      "Maria\n",
      "Rio das Ostras\n",
      "Manutenção\n"
     ]
    }
   ],
   "source": [
    "print(maria.nome)\n",
    "print(maria.cidade_natal.nome_cidade)\n",
    "print(maria.setor.nome_setor)"
   ]
  },
  {
   "cell_type": "code",
   "execution_count": 6,
   "id": "1fbdd9d4",
   "metadata": {},
   "outputs": [
    {
     "name": "stdout",
     "output_type": "stream",
     "text": [
      "João\n",
      "Macaé\n",
      "Maria\n",
      "Manutenção\n"
     ]
    }
   ],
   "source": [
    "print(joao.nome)\n",
    "print(joao.cidade_natal.nome_cidade)\n",
    "print(joao.chefe.nome)\n",
    "print(joao.chefe.setor.nome_setor)"
   ]
  }
 ],
 "metadata": {
  "kernelspec": {
   "display_name": "Python 3 (ipykernel)",
   "language": "python",
   "name": "python3"
  },
  "language_info": {
   "codemirror_mode": {
    "name": "ipython",
    "version": 3
   },
   "file_extension": ".py",
   "mimetype": "text/x-python",
   "name": "python",
   "nbconvert_exporter": "python",
   "pygments_lexer": "ipython3",
   "version": "3.9.12"
  }
 },
 "nbformat": 4,
 "nbformat_minor": 5
}
